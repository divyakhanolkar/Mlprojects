{
 "cells": [
  {
   "cell_type": "markdown",
   "id": "310ae2db",
   "metadata": {},
   "source": [
    "# Jupyter Notebook"
   ]
  },
  {
   "cell_type": "markdown",
   "id": "26aaa304",
   "metadata": {},
   "source": [
    "- Enter cell: *enter*\n",
    "- Leave cell: *esc*\n",
    "- Create new cell below: *b*\n",
    "- Create new cell above: *a*\n",
    "- Delete cell: *d d*\n",
    "- Convert cell to markdown: *m*\n",
    "- Run cell: *command+enter*\n",
    "- Run cell and go to next: *shift + enter*\n",
    "- Auto complete: *tab*\n",
    "- Signature autocomplete: *shift + tab*"
   ]
  },
  {
   "cell_type": "markdown",
   "id": "da75edfa",
   "metadata": {},
   "source": [
    "# Intro to Python"
   ]
  },
  {
   "cell_type": "code",
   "execution_count": 1,
   "id": "677be5db",
   "metadata": {},
   "outputs": [
    {
     "name": "stdout",
     "output_type": "stream",
     "text": [
      "Hello World\n",
      "Hello World\n",
      "Hello World\n",
      "True\n",
      "False\n"
     ]
    }
   ],
   "source": [
    "# print\n",
    "print(\"Hello World\")\n",
    "print(\"Hello\" + \" World\")\n",
    "\n",
    "# print text + variable\n",
    "x = \"World\"\n",
    "print(\"Hello %s\"%x)\n",
    "\n",
    "# boolean\n",
    "print(1==1)\n",
    "print(1>2)"
   ]
  },
  {
   "cell_type": "code",
   "execution_count": 2,
   "id": "b03ed9f8",
   "metadata": {},
   "outputs": [
    {
     "name": "stdout",
     "output_type": "stream",
     "text": [
      "[1, 3, 4, 5, 6]\n"
     ]
    }
   ],
   "source": [
    "# lists\n",
    "l = [1,2,3,4,5]\n",
    "\n",
    "# add new elemenent to list\n",
    "l.append(6)\n",
    "\n",
    "# remove\n",
    "l.remove(2)\n",
    "\n",
    "# lenght\n",
    "len(l)\n",
    "\n",
    "# get element\n",
    "l[0]\n",
    "\n",
    "# count elements\n",
    "l.count(1)\n",
    "\n",
    "print(l)"
   ]
  },
  {
   "cell_type": "code",
   "execution_count": 3,
   "id": "297d83dc",
   "metadata": {},
   "outputs": [
    {
     "name": "stdout",
     "output_type": "stream",
     "text": [
      "44500\n"
     ]
    }
   ],
   "source": [
    "# dictionaries\n",
    "studentnumbers = {\"Aachen\": 44500, \"Bochum\": 42700, \"Bonn\": 38000, \"Duisburg-Essen\": 38900, \"Koeln\": 49800}\n",
    "\n",
    "# get element of dict\n",
    "print(studentnumbers[\"Aachen\"])"
   ]
  },
  {
   "cell_type": "code",
   "execution_count": 4,
   "id": "b0860078",
   "metadata": {},
   "outputs": [
    {
     "name": "stdout",
     "output_type": "stream",
     "text": [
      "There are more students in Aachen than Bonn.\n"
     ]
    }
   ],
   "source": [
    "# if else\n",
    "if studentnumbers[\"Aachen\"]>studentnumbers[\"Bonn\"]:\n",
    "    print(\"There are more students in Aachen than Bonn.\")\n",
    "else:\n",
    "    print(\"There are more students in Bonn than Aachen.\")"
   ]
  },
  {
   "cell_type": "code",
   "execution_count": 5,
   "id": "e909f970",
   "metadata": {},
   "outputs": [
    {
     "name": "stdout",
     "output_type": "stream",
     "text": [
      "Aachen 44500\n",
      "Bochum 42700\n",
      "Bonn 38000\n",
      "Duisburg-Essen 38900\n",
      "Koeln 49800\n",
      "Sum: 213900\n"
     ]
    }
   ],
   "source": [
    "# for loop\n",
    "student_sum = 0\n",
    "for city in studentnumbers:\n",
    "    print(city, studentnumbers[city])\n",
    "    student_sum += studentnumbers[city]\n",
    "    \n",
    "print(\"Sum:\",student_sum)"
   ]
  },
  {
   "cell_type": "code",
   "execution_count": 6,
   "id": "5a9d324f",
   "metadata": {},
   "outputs": [
    {
     "name": "stdout",
     "output_type": "stream",
     "text": [
      "1\n",
      "2\n",
      "3\n",
      "4\n"
     ]
    }
   ],
   "source": [
    "# while loop (if we do not know how often the loop should run, but use with caution)\n",
    "counter = 1\n",
    "while counter<5:\n",
    "    print(counter)\n",
    "    counter = counter+1"
   ]
  },
  {
   "cell_type": "code",
   "execution_count": 7,
   "id": "ad438820",
   "metadata": {},
   "outputs": [
    {
     "name": "stdout",
     "output_type": "stream",
     "text": [
      "16\n"
     ]
    }
   ],
   "source": [
    "# define function\n",
    "def square_number(x):\n",
    "    return x*x\n",
    "\n",
    "print(square_number(4))"
   ]
  },
  {
   "cell_type": "code",
   "execution_count": 8,
   "id": "c5b644c0",
   "metadata": {},
   "outputs": [
    {
     "data": {
      "text/plain": [
       "3.141592653589793"
      ]
     },
     "execution_count": 8,
     "metadata": {},
     "output_type": "execute_result"
    }
   ],
   "source": [
    "# import libraries\n",
    "from math import *\n",
    "pi"
   ]
  },
  {
   "cell_type": "markdown",
   "id": "6839897e",
   "metadata": {},
   "source": [
    "# Intro to Numpy"
   ]
  },
  {
   "cell_type": "code",
   "execution_count": null,
   "id": "0522cebd",
   "metadata": {},
   "outputs": [],
   "source": [
    "# import\n",
    "import numpy as np"
   ]
  },
  {
   "cell_type": "code",
   "execution_count": null,
   "id": "4d7c9125",
   "metadata": {},
   "outputs": [
    {
     "name": "stdout",
     "output_type": "stream",
     "text": [
      "[1 2 3]\n",
      "[5 2 3]\n",
      "[6 4 6]\n",
      "[2.23606798 1.41421356 1.73205081]\n",
      "3.3333333333333335\n",
      "1.247219128924647\n"
     ]
    }
   ],
   "source": [
    "# create numpy array\n",
    "a = np.array([1, 2, 3])\n",
    "\n",
    "# how to get elements from arrays:\n",
    "# first element has index 0\n",
    "# a[0] = 1\n",
    "# a[1] = 2\n",
    "# a[2] = 3\n",
    "\n",
    "# get first 3 elements of array a \n",
    "print(a[0:3])\n",
    "\n",
    "# assign new values\n",
    "a[0] = 5\n",
    "print(a)\n",
    "\n",
    "b = np.array([1, 2, 3])\n",
    "\n",
    "# operations\n",
    "print(a + b)\n",
    "print(np.sqrt(a))\n",
    "print(np.mean(a))\n",
    "print(np.std(a))\n",
    "# ...\n",
    "\n",
    "\n"
   ]
  },
  {
   "cell_type": "markdown",
   "id": "db5007fa",
   "metadata": {},
   "source": [
    "# Intro to Pandas\n",
    "Pandas is based on numpy. A row/column of a pandas dataframe is treated just like a numpy array."
   ]
  },
  {
   "cell_type": "code",
   "execution_count": 20,
   "id": "af5496ce",
   "metadata": {},
   "outputs": [],
   "source": [
    "import pandas as pd"
   ]
  },
  {
   "cell_type": "code",
   "execution_count": 21,
   "id": "5da08576",
   "metadata": {},
   "outputs": [
    {
     "data": {
      "text/html": [
       "<div>\n",
       "<style scoped>\n",
       "    .dataframe tbody tr th:only-of-type {\n",
       "        vertical-align: middle;\n",
       "    }\n",
       "\n",
       "    .dataframe tbody tr th {\n",
       "        vertical-align: top;\n",
       "    }\n",
       "\n",
       "    .dataframe thead th {\n",
       "        text-align: right;\n",
       "    }\n",
       "</style>\n",
       "<table border=\"1\" class=\"dataframe\">\n",
       "  <thead>\n",
       "    <tr style=\"text-align: right;\">\n",
       "      <th></th>\n",
       "      <th>A</th>\n",
       "      <th>B</th>\n",
       "      <th>C</th>\n",
       "    </tr>\n",
       "  </thead>\n",
       "  <tbody>\n",
       "    <tr>\n",
       "      <th>0</th>\n",
       "      <td>-2</td>\n",
       "      <td>-42</td>\n",
       "      <td>11</td>\n",
       "    </tr>\n",
       "    <tr>\n",
       "      <th>1</th>\n",
       "      <td>1</td>\n",
       "      <td>75</td>\n",
       "      <td>-17</td>\n",
       "    </tr>\n",
       "    <tr>\n",
       "      <th>2</th>\n",
       "      <td>7</td>\n",
       "      <td>5</td>\n",
       "      <td>-44</td>\n",
       "    </tr>\n",
       "    <tr>\n",
       "      <th>3</th>\n",
       "      <td>22</td>\n",
       "      <td>-4</td>\n",
       "      <td>-89</td>\n",
       "    </tr>\n",
       "  </tbody>\n",
       "</table>\n",
       "</div>"
      ],
      "text/plain": [
       "    A   B   C\n",
       "0  -2 -42  11\n",
       "1   1  75 -17\n",
       "2   7   5 -44\n",
       "3  22  -4 -89"
      ]
     },
     "execution_count": 21,
     "metadata": {},
     "output_type": "execute_result"
    }
   ],
   "source": [
    "# create dataframe with 3 columns and 4 rows from dictionary\n",
    "df = pd.DataFrame({'A': [-2, 1, 7, 22],\n",
    "                   'B': [-42, 75, 5, -4],\n",
    "                   'C': [11, -17, -44, -89]})\n",
    "df"
   ]
  },
  {
   "cell_type": "code",
   "execution_count": 22,
   "id": "019cade7",
   "metadata": {},
   "outputs": [
    {
     "data": {
      "text/html": [
       "<div>\n",
       "<style scoped>\n",
       "    .dataframe tbody tr th:only-of-type {\n",
       "        vertical-align: middle;\n",
       "    }\n",
       "\n",
       "    .dataframe tbody tr th {\n",
       "        vertical-align: top;\n",
       "    }\n",
       "\n",
       "    .dataframe thead th {\n",
       "        text-align: right;\n",
       "    }\n",
       "</style>\n",
       "<table border=\"1\" class=\"dataframe\">\n",
       "  <thead>\n",
       "    <tr style=\"text-align: right;\">\n",
       "      <th></th>\n",
       "      <th>A</th>\n",
       "      <th>B</th>\n",
       "      <th>C</th>\n",
       "    </tr>\n",
       "  </thead>\n",
       "  <tbody>\n",
       "    <tr>\n",
       "      <th>One</th>\n",
       "      <td>-2</td>\n",
       "      <td>-42</td>\n",
       "      <td>11</td>\n",
       "    </tr>\n",
       "    <tr>\n",
       "      <th>Two</th>\n",
       "      <td>1</td>\n",
       "      <td>75</td>\n",
       "      <td>-17</td>\n",
       "    </tr>\n",
       "    <tr>\n",
       "      <th>Three</th>\n",
       "      <td>7</td>\n",
       "      <td>5</td>\n",
       "      <td>-44</td>\n",
       "    </tr>\n",
       "    <tr>\n",
       "      <th>Four</th>\n",
       "      <td>22</td>\n",
       "      <td>-4</td>\n",
       "      <td>-89</td>\n",
       "    </tr>\n",
       "  </tbody>\n",
       "</table>\n",
       "</div>"
      ],
      "text/plain": [
       "        A   B   C\n",
       "One    -2 -42  11\n",
       "Two     1  75 -17\n",
       "Three   7   5 -44\n",
       "Four   22  -4 -89"
      ]
     },
     "execution_count": 22,
     "metadata": {},
     "output_type": "execute_result"
    }
   ],
   "source": [
    "# Change row name (also called index)\n",
    "df.index = ['One', 'Two', 'Three', 'Four']\n",
    "df"
   ]
  },
  {
   "cell_type": "code",
   "execution_count": 23,
   "id": "6c79cd77",
   "metadata": {},
   "outputs": [
    {
     "data": {
      "text/html": [
       "<div>\n",
       "<style scoped>\n",
       "    .dataframe tbody tr th:only-of-type {\n",
       "        vertical-align: middle;\n",
       "    }\n",
       "\n",
       "    .dataframe tbody tr th {\n",
       "        vertical-align: top;\n",
       "    }\n",
       "\n",
       "    .dataframe thead th {\n",
       "        text-align: right;\n",
       "    }\n",
       "</style>\n",
       "<table border=\"1\" class=\"dataframe\">\n",
       "  <thead>\n",
       "    <tr style=\"text-align: right;\">\n",
       "      <th></th>\n",
       "      <th>A</th>\n",
       "      <th>B</th>\n",
       "      <th>C</th>\n",
       "      <th>D</th>\n",
       "    </tr>\n",
       "  </thead>\n",
       "  <tbody>\n",
       "    <tr>\n",
       "      <th>One</th>\n",
       "      <td>-2</td>\n",
       "      <td>-42</td>\n",
       "      <td>11</td>\n",
       "      <td>-1</td>\n",
       "    </tr>\n",
       "    <tr>\n",
       "      <th>Two</th>\n",
       "      <td>1</td>\n",
       "      <td>75</td>\n",
       "      <td>-17</td>\n",
       "      <td>1</td>\n",
       "    </tr>\n",
       "    <tr>\n",
       "      <th>Three</th>\n",
       "      <td>7</td>\n",
       "      <td>5</td>\n",
       "      <td>-44</td>\n",
       "      <td>-2</td>\n",
       "    </tr>\n",
       "    <tr>\n",
       "      <th>Four</th>\n",
       "      <td>22</td>\n",
       "      <td>-4</td>\n",
       "      <td>-89</td>\n",
       "      <td>2</td>\n",
       "    </tr>\n",
       "  </tbody>\n",
       "</table>\n",
       "</div>"
      ],
      "text/plain": [
       "        A   B   C  D\n",
       "One    -2 -42  11 -1\n",
       "Two     1  75 -17  1\n",
       "Three   7   5 -44 -2\n",
       "Four   22  -4 -89  2"
      ]
     },
     "execution_count": 23,
     "metadata": {},
     "output_type": "execute_result"
    }
   ],
   "source": [
    "# Add columns\n",
    "df['D'] = [-1, 1, -2, 2]\n",
    "df"
   ]
  },
  {
   "cell_type": "code",
   "execution_count": 24,
   "id": "8a589005",
   "metadata": {},
   "outputs": [
    {
     "data": {
      "text/html": [
       "<div>\n",
       "<style scoped>\n",
       "    .dataframe tbody tr th:only-of-type {\n",
       "        vertical-align: middle;\n",
       "    }\n",
       "\n",
       "    .dataframe tbody tr th {\n",
       "        vertical-align: top;\n",
       "    }\n",
       "\n",
       "    .dataframe thead th {\n",
       "        text-align: right;\n",
       "    }\n",
       "</style>\n",
       "<table border=\"1\" class=\"dataframe\">\n",
       "  <thead>\n",
       "    <tr style=\"text-align: right;\">\n",
       "      <th></th>\n",
       "      <th>A</th>\n",
       "      <th>B</th>\n",
       "      <th>C</th>\n",
       "    </tr>\n",
       "  </thead>\n",
       "  <tbody>\n",
       "    <tr>\n",
       "      <th>One</th>\n",
       "      <td>-2</td>\n",
       "      <td>-42</td>\n",
       "      <td>11</td>\n",
       "    </tr>\n",
       "    <tr>\n",
       "      <th>Two</th>\n",
       "      <td>1</td>\n",
       "      <td>75</td>\n",
       "      <td>-17</td>\n",
       "    </tr>\n",
       "    <tr>\n",
       "      <th>Three</th>\n",
       "      <td>7</td>\n",
       "      <td>5</td>\n",
       "      <td>-44</td>\n",
       "    </tr>\n",
       "    <tr>\n",
       "      <th>Four</th>\n",
       "      <td>22</td>\n",
       "      <td>-4</td>\n",
       "      <td>-89</td>\n",
       "    </tr>\n",
       "  </tbody>\n",
       "</table>\n",
       "</div>"
      ],
      "text/plain": [
       "        A   B   C\n",
       "One    -2 -42  11\n",
       "Two     1  75 -17\n",
       "Three   7   5 -44\n",
       "Four   22  -4 -89"
      ]
     },
     "execution_count": 24,
     "metadata": {},
     "output_type": "execute_result"
    }
   ],
   "source": [
    "# Delete column\n",
    "df = df.drop(['D'], axis='columns')\n",
    "df"
   ]
  },
  {
   "cell_type": "code",
   "execution_count": 25,
   "id": "d09861ef",
   "metadata": {},
   "outputs": [
    {
     "data": {
      "text/html": [
       "<div>\n",
       "<style scoped>\n",
       "    .dataframe tbody tr th:only-of-type {\n",
       "        vertical-align: middle;\n",
       "    }\n",
       "\n",
       "    .dataframe tbody tr th {\n",
       "        vertical-align: top;\n",
       "    }\n",
       "\n",
       "    .dataframe thead th {\n",
       "        text-align: right;\n",
       "    }\n",
       "</style>\n",
       "<table border=\"1\" class=\"dataframe\">\n",
       "  <thead>\n",
       "    <tr style=\"text-align: right;\">\n",
       "      <th></th>\n",
       "      <th>A</th>\n",
       "    </tr>\n",
       "  </thead>\n",
       "  <tbody>\n",
       "    <tr>\n",
       "      <th>One</th>\n",
       "      <td>-2</td>\n",
       "    </tr>\n",
       "    <tr>\n",
       "      <th>Two</th>\n",
       "      <td>1</td>\n",
       "    </tr>\n",
       "    <tr>\n",
       "      <th>Three</th>\n",
       "      <td>7</td>\n",
       "    </tr>\n",
       "    <tr>\n",
       "      <th>Four</th>\n",
       "      <td>22</td>\n",
       "    </tr>\n",
       "  </tbody>\n",
       "</table>\n",
       "</div>"
      ],
      "text/plain": [
       "        A\n",
       "One    -2\n",
       "Two     1\n",
       "Three   7\n",
       "Four   22"
      ]
     },
     "execution_count": 25,
     "metadata": {},
     "output_type": "execute_result"
    }
   ],
   "source": [
    "# Choose columns\n",
    "first_column = df[['A']]\n",
    "first_column"
   ]
  },
  {
   "cell_type": "code",
   "execution_count": 26,
   "id": "f2462239",
   "metadata": {},
   "outputs": [
    {
     "name": "stdout",
     "output_type": "stream",
     "text": [
      "The element Two,B is: 75\n",
      "    A   B   C\n",
      "0  -2 -42  11\n",
      "1   1  75 -17\n",
      "2   7   5 -44\n",
      "3  22  -4 -89\n",
      "The element 2,2 ist:  -44\n",
      "Row One as series:\n",
      "A     1\n",
      "B    75\n",
      "C   -17\n",
      "Name: 1, dtype: int64\n"
     ]
    }
   ],
   "source": [
    "# Choose element by index and column name\n",
    "print(\"The element Two,B is:\", df.loc[\"Two\",\"B\"])\n",
    "\n",
    "# reset index\n",
    "df.reset_index(inplace=True,drop=True)\n",
    "print(df)\n",
    "\n",
    "# choose an element by the order (starting with 0!)\n",
    "element_22 = df.iloc[2, 2]\n",
    "print(\"The element 2,2 ist: \",element_22)\n",
    "\n",
    "# choose row\n",
    "row_Eins = df.loc[1, :].copy()\n",
    "print(\"Row One as series:\")\n",
    "print(row_Eins)"
   ]
  },
  {
   "cell_type": "code",
   "execution_count": 27,
   "id": "b6c0a9f7",
   "metadata": {},
   "outputs": [
    {
     "data": {
      "text/html": [
       "<div>\n",
       "<style scoped>\n",
       "    .dataframe tbody tr th:only-of-type {\n",
       "        vertical-align: middle;\n",
       "    }\n",
       "\n",
       "    .dataframe tbody tr th {\n",
       "        vertical-align: top;\n",
       "    }\n",
       "\n",
       "    .dataframe thead th {\n",
       "        text-align: right;\n",
       "    }\n",
       "</style>\n",
       "<table border=\"1\" class=\"dataframe\">\n",
       "  <thead>\n",
       "    <tr style=\"text-align: right;\">\n",
       "      <th></th>\n",
       "      <th>A</th>\n",
       "      <th>B</th>\n",
       "      <th>C</th>\n",
       "    </tr>\n",
       "  </thead>\n",
       "  <tbody>\n",
       "    <tr>\n",
       "      <th>1</th>\n",
       "      <td>1</td>\n",
       "      <td>75</td>\n",
       "      <td>-17</td>\n",
       "    </tr>\n",
       "    <tr>\n",
       "      <th>2</th>\n",
       "      <td>7</td>\n",
       "      <td>5</td>\n",
       "      <td>-44</td>\n",
       "    </tr>\n",
       "    <tr>\n",
       "      <th>3</th>\n",
       "      <td>22</td>\n",
       "      <td>-4</td>\n",
       "      <td>-89</td>\n",
       "    </tr>\n",
       "  </tbody>\n",
       "</table>\n",
       "</div>"
      ],
      "text/plain": [
       "    A   B   C\n",
       "1   1  75 -17\n",
       "2   7   5 -44\n",
       "3  22  -4 -89"
      ]
     },
     "execution_count": 27,
     "metadata": {},
     "output_type": "execute_result"
    }
   ],
   "source": [
    "# slice and dice\n",
    "df2 = df[df.A > 0]\n",
    "df2"
   ]
  },
  {
   "cell_type": "markdown",
   "id": "a1d56d84",
   "metadata": {},
   "source": [
    "# Intro to Matplotlib"
   ]
  },
  {
   "cell_type": "code",
   "execution_count": 28,
   "id": "6ff4b8fb",
   "metadata": {},
   "outputs": [],
   "source": [
    "import matplotlib.pyplot as plt"
   ]
  },
  {
   "cell_type": "code",
   "execution_count": 31,
   "id": "7458e135",
   "metadata": {},
   "outputs": [
    {
     "data": {
      "image/png": "[encoded data removed]",
      "text/plain": [
       "<Figure size 432x288 with 1 Axes>"
      ]
     },
     "metadata": {
      "needs_background": "light"
     },
     "output_type": "display_data"
    }
   ],
   "source": [
    "# read data with pandas\n",
    "df = pd.read_csv(\"goog.csv\", index_col='date')\n",
    "\n",
    "# convert dates to datetime series (so it becomes time aware)\n",
    "df.index = pd.to_datetime(df.index)\n",
    "\n",
    "# rolling mean\n",
    "df[\"rolling_mean\"] = df[\"close\"].rolling(30).mean()\n",
    "\n",
    "# plot\n",
    "plt.plot(df[\"close\"],label=\"Google\")\n",
    "plt.plot(df[\"rolling_mean\"],label=\"30 Days Rolling Mean\")\n",
    "\n",
    "# label the plot\n",
    "plt.title('Close')\n",
    "plt.xlabel('Date')\n",
    "plt.ylabel('Stock Price')\n",
    "plt.legend()\n",
    "\n",
    "# show plot\n",
    "plt.show()"
   ]
  },
  {
   "cell_type": "markdown",
   "id": "c52cc7e3",
   "metadata": {},
   "source": [
    "# Intro to Statistics Libraries\n",
    "There are many different libraries that we will use for statistics. Let's start with a simple linear regression. We can use a variety of libraries for that (statsmodels, skleanr, scipy, pingouin,...) with different advantages and disadvantage. We will use statsmodels for now."
   ]
  },
  {
   "cell_type": "code",
   "execution_count": 32,
   "id": "1a1908e9",
   "metadata": {},
   "outputs": [],
   "source": [
    "# read advertising data set advertising.csv\n",
    "advert = pd.read_csv('advertising.csv')"
   ]
  },
  {
   "cell_type": "code",
   "execution_count": 33,
   "id": "dc7a1e28",
   "metadata": {},
   "outputs": [
    {
     "data": {
      "text/html": [
       "<table class=\"simpletable\">\n",
       "<caption>OLS Regression Results</caption>\n",
       "<tr>\n",
       "  <th>Dep. Variable:</th>          <td>Sales</td>      <th>  R-squared:         </th> <td>   0.612</td>\n",
       "</tr>\n",
       "<tr>\n",
       "  <th>Model:</th>                   <td>OLS</td>       <th>  Adj. R-squared:    </th> <td>   0.610</td>\n",
       "</tr>\n",
       "<tr>\n",
       "  <th>Method:</th>             <td>Least Squares</td>  <th>  F-statistic:       </th> <td>   312.1</td>\n",
       "</tr>\n",
       "<tr>\n",
       "  <th>Date:</th>             <td>Tue, 25 Oct 2022</td> <th>  Prob (F-statistic):</th> <td>1.47e-42</td>\n",
       "</tr>\n",
       "<tr>\n",
       "  <th>Time:</th>                 <td>11:47:41</td>     <th>  Log-Likelihood:    </th> <td> -519.05</td>\n",
       "</tr>\n",
       "<tr>\n",
       "  <th>No. Observations:</th>      <td>   200</td>      <th>  AIC:               </th> <td>   1042.</td>\n",
       "</tr>\n",
       "<tr>\n",
       "  <th>Df Residuals:</th>          <td>   198</td>      <th>  BIC:               </th> <td>   1049.</td>\n",
       "</tr>\n",
       "<tr>\n",
       "  <th>Df Model:</th>              <td>     1</td>      <th>                     </th>     <td> </td>   \n",
       "</tr>\n",
       "<tr>\n",
       "  <th>Covariance Type:</th>      <td>nonrobust</td>    <th>                     </th>     <td> </td>   \n",
       "</tr>\n",
       "</table>\n",
       "<table class=\"simpletable\">\n",
       "<tr>\n",
       "      <td></td>         <th>coef</th>     <th>std err</th>      <th>t</th>      <th>P>|t|</th>  <th>[0.025</th>    <th>0.975]</th>  \n",
       "</tr>\n",
       "<tr>\n",
       "  <th>Intercept</th> <td>    7.0326</td> <td>    0.458</td> <td>   15.360</td> <td> 0.000</td> <td>    6.130</td> <td>    7.935</td>\n",
       "</tr>\n",
       "<tr>\n",
       "  <th>TV</th>        <td>    0.0475</td> <td>    0.003</td> <td>   17.668</td> <td> 0.000</td> <td>    0.042</td> <td>    0.053</td>\n",
       "</tr>\n",
       "</table>\n",
       "<table class=\"simpletable\">\n",
       "<tr>\n",
       "  <th>Omnibus:</th>       <td> 0.531</td> <th>  Durbin-Watson:     </th> <td>   1.935</td>\n",
       "</tr>\n",
       "<tr>\n",
       "  <th>Prob(Omnibus):</th> <td> 0.767</td> <th>  Jarque-Bera (JB):  </th> <td>   0.669</td>\n",
       "</tr>\n",
       "<tr>\n",
       "  <th>Skew:</th>          <td>-0.089</td> <th>  Prob(JB):          </th> <td>   0.716</td>\n",
       "</tr>\n",
       "<tr>\n",
       "  <th>Kurtosis:</th>      <td> 2.779</td> <th>  Cond. No.          </th> <td>    338.</td>\n",
       "</tr>\n",
       "</table><br/><br/>Notes:<br/>[1] Standard Errors assume that the covariance matrix of the errors is correctly specified."
      ],
      "text/plain": [
       "<class 'statsmodels.iolib.summary.Summary'>\n",
       "\"\"\"\n",
       "                            OLS Regression Results                            \n",
       "==============================================================================\n",
       "Dep. Variable:                  Sales   R-squared:                       0.612\n",
       "Model:                            OLS   Adj. R-squared:                  0.610\n",
       "Method:                 Least Squares   F-statistic:                     312.1\n",
       "Date:                Tue, 25 Oct 2022   Prob (F-statistic):           1.47e-42\n",
       "Time:                        11:47:41   Log-Likelihood:                -519.05\n",
       "No. Observations:                 200   AIC:                             1042.\n",
       "Df Residuals:                     198   BIC:                             1049.\n",
       "Df Model:                           1                                         \n",
       "Covariance Type:            nonrobust                                         \n",
       "==============================================================================\n",
       "                 coef    std err          t      P>|t|      [0.025      0.975]\n",
       "------------------------------------------------------------------------------\n",
       "Intercept      7.0326      0.458     15.360      0.000       6.130       7.935\n",
       "TV             0.0475      0.003     17.668      0.000       0.042       0.053\n",
       "==============================================================================\n",
       "Omnibus:                        0.531   Durbin-Watson:                   1.935\n",
       "Prob(Omnibus):                  0.767   Jarque-Bera (JB):                0.669\n",
       "Skew:                          -0.089   Prob(JB):                        0.716\n",
       "Kurtosis:                       2.779   Cond. No.                         338.\n",
       "==============================================================================\n",
       "\n",
       "Notes:\n",
       "[1] Standard Errors assume that the covariance matrix of the errors is correctly specified.\n",
       "\"\"\""
      ]
     },
     "execution_count": 33,
     "metadata": {},
     "output_type": "execute_result"
    }
   ],
   "source": [
    "import statsmodels.formula.api as smf\n",
    "\n",
    "# Initialise and fit linear regression model using statsmodels\n",
    "model = smf.ols('Sales ~ TV', data=advert)\n",
    "model = model.fit()\n",
    "model.summary()"
   ]
  },
  {
   "cell_type": "code",
   "execution_count": 35,
   "id": "1ff93b2b",
   "metadata": {},
   "outputs": [
    {
     "data": {
      "image/png": "[encoded data removed]",
      "text/plain": [
       "<Figure size 864x432 with 1 Axes>"
      ]
     },
     "metadata": {
      "needs_background": "light"
     },
     "output_type": "display_data"
    }
   ],
   "source": [
    "# Predict values\n",
    "sales_pred = model.predict()\n",
    "\n",
    "# Plot regression against actual data\n",
    "plt.figure(figsize=(12, 6))\n",
    "plt.plot(advert['TV'], advert['Sales'], 'o')           # scatter plot showing actual data\n",
    "plt.plot(advert['TV'], sales_pred, 'r', linewidth=2)   # regression line\n",
    "plt.xlabel('TV Advertising Costs')\n",
    "plt.ylabel('Sales')\n",
    "plt.title('TV vs Sales')\n",
    "\n",
    "plt.show()"
   ]
  },
  {
   "cell_type": "code",
   "execution_count": 36,
   "id": "02a50d9d",
   "metadata": {},
   "outputs": [
    {
     "data": {
      "text/plain": [
       "0    26.04725\n",
       "dtype: float64"
      ]
     },
     "execution_count": 36,
     "metadata": {},
     "output_type": "execute_result"
    }
   ],
   "source": [
    "# predict new value (for advertising = 400)\n",
    "new_X = 400\n",
    "model.predict({\"TV\": new_X})"
   ]
  },
  {
   "cell_type": "markdown",
   "id": "b30e4912",
   "metadata": {},
   "source": [
    "## Exercise\n",
    "- Import the file *Students.csv*.\n",
    "- Run a linear regression that explains the average of the students based on the study time.\n",
    "- Plot the prediction against the actual values.\n",
    "- Now add more variables to the regression to increase the explanatory power of the model: age and gender. Check the coefficients for significance.\n",
    "- Calculate the *Mean Absolute Percentage Error* and the *Root Mean Square Error*."
   ]
  },
  {
   "cell_type": "code",
   "execution_count": 40,
   "id": "dea6414d",
   "metadata": {},
   "outputs": [
    {
     "data": {
      "image/png": "[encoded data removed]",
      "text/plain": [
       "<Figure size 864x432 with 1 Axes>"
      ]
     },
     "metadata": {
      "needs_background": "light"
     },
     "output_type": "display_data"
    },
    {
     "name": "stdout",
     "output_type": "stream",
     "text": [
      "                            OLS Regression Results                            \n",
      "==============================================================================\n",
      "Dep. Variable:                   Mean   R-squared:                       0.538\n",
      "Model:                            OLS   Adj. R-squared:                  0.523\n",
      "Method:                 Least Squares   F-statistic:                     36.89\n",
      "Date:                Tue, 25 Oct 2022   Prob (F-statistic):           6.77e-16\n",
      "Time:                        11:56:59   Log-Likelihood:                -101.36\n",
      "No. Observations:                  99   AIC:                             210.7\n",
      "Df Residuals:                      95   BIC:                             221.1\n",
      "Df Model:                           3                                         \n",
      "Covariance Type:            nonrobust                                         \n",
      "==================================================================================\n",
      "                     coef    std err          t      P>|t|      [0.025      0.975]\n",
      "----------------------------------------------------------------------------------\n",
      "Intercept          3.8138      0.562      6.790      0.000       2.699       4.929\n",
      "C(Gender)[T.m]     0.0854      0.169      0.506      0.614      -0.250       0.420\n",
      "Study_Time        -0.5753      0.056    -10.276      0.000      -0.686      -0.464\n",
      "Age                0.0208      0.024      0.886      0.378      -0.026       0.068\n",
      "==============================================================================\n",
      "Omnibus:                       30.439   Durbin-Watson:                   1.973\n",
      "Prob(Omnibus):                  0.000   Jarque-Bera (JB):               63.060\n",
      "Skew:                          -1.182   Prob(JB):                     2.03e-14\n",
      "Kurtosis:                       6.115   Cond. No.                         185.\n",
      "==============================================================================\n",
      "\n",
      "Notes:\n",
      "[1] Standard Errors assume that the covariance matrix of the errors is correctly specified.\n",
      "Mean Absolute Percentage Error: 0.2166\n",
      "Root Mean Square Error: 0.6736\n"
     ]
    }
   ],
   "source": [
    "import pandas as pd\n",
    "import numpy as np\n",
    "import statsmodels.formula.api as smf\n",
    "import matplotlib.pyplot as plt\n",
    "\n",
    "# Read data file\n",
    "\n",
    "\n",
    "# Calculate average grade\n",
    "\n",
    "\n",
    "# Initialise and fit linear regression model using `statsmodels`\n",
    "\n",
    "\n",
    "# Predict values\n",
    "\n",
    "\n",
    "# Plot regression against actual data\n",
    "\n",
    "\n",
    "# more variables with categories\n",
    "\n",
    "\n",
    "# Residuals\n",
    "\n",
    "\n",
    "# MAPE and RMSE"
   ]
  }
 ],
 "metadata": {
  "kernelspec": {
   "display_name": "Python 3 (ipykernel)",
   "language": "python",
   "name": "python3"
  },
  "language_info": {
   "codemirror_mode": {
    "name": "ipython",
    "version": 3
   },
   "file_extension": ".py",
   "mimetype": "text/x-python",
   "name": "python",
   "nbconvert_exporter": "python",
   "pygments_lexer": "ipython3",
   "version": "3.9.7"
  },
  "vscode": {
   "interpreter": {
    "hash": "e165bd9f2421c5eb20ff07afc84151005b605c0a44010827081d54cac67592f2"
   }
  }
 },
 "nbformat": 4,
 "nbformat_minor": 5
}
